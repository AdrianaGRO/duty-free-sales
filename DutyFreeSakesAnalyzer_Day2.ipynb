{
  "nbformat": 4,
  "nbformat_minor": 0,
  "metadata": {
    "colab": {
      "provenance": [],
      "mount_file_id": "1aAYdXuOBxn8dL-HnABI9nIlScVZPiJRX",
      "authorship_tag": "ABX9TyMwXvITD565RfUp3uAFVuxk",
      "include_colab_link": true
    },
    "kernelspec": {
      "name": "python3",
      "display_name": "Python 3"
    },
    "language_info": {
      "name": "python"
    }
  },
  "cells": [
    {
      "cell_type": "markdown",
      "metadata": {
        "id": "view-in-github",
        "colab_type": "text"
      },
      "source": [
        "<a href=\"https://colab.research.google.com/github/AdrianaGRO/duty-free-sales/blob/main/DutyFreeSakesAnalyzer_Day2.ipynb\" target=\"_parent\"><img src=\"https://colab.research.google.com/assets/colab-badge.svg\" alt=\"Open In Colab\"/></a>"
      ]
    },
    {
      "cell_type": "markdown",
      "source": [
        "# **Py.3 - Duty-Free Sales Analyzer.ipynb**"
      ],
      "metadata": {
        "id": "KEn77xCrikPT"
      }
    },
    {
      "cell_type": "code",
      "source": [
        "!pip install openai\n"
      ],
      "metadata": {
        "colab": {
          "base_uri": "https://localhost:8080/"
        },
        "id": "Xw-AswVREi-1",
        "outputId": "6ec44138-eb43-41de-9f47-198b052945c6"
      },
      "execution_count": 1,
      "outputs": [
        {
          "output_type": "stream",
          "name": "stdout",
          "text": [
            "Requirement already satisfied: openai in /usr/local/lib/python3.11/dist-packages (1.70.0)\n",
            "Requirement already satisfied: anyio<5,>=3.5.0 in /usr/local/lib/python3.11/dist-packages (from openai) (4.9.0)\n",
            "Requirement already satisfied: distro<2,>=1.7.0 in /usr/local/lib/python3.11/dist-packages (from openai) (1.9.0)\n",
            "Requirement already satisfied: httpx<1,>=0.23.0 in /usr/local/lib/python3.11/dist-packages (from openai) (0.28.1)\n",
            "Requirement already satisfied: jiter<1,>=0.4.0 in /usr/local/lib/python3.11/dist-packages (from openai) (0.9.0)\n",
            "Requirement already satisfied: pydantic<3,>=1.9.0 in /usr/local/lib/python3.11/dist-packages (from openai) (2.11.2)\n",
            "Requirement already satisfied: sniffio in /usr/local/lib/python3.11/dist-packages (from openai) (1.3.1)\n",
            "Requirement already satisfied: tqdm>4 in /usr/local/lib/python3.11/dist-packages (from openai) (4.67.1)\n",
            "Requirement already satisfied: typing-extensions<5,>=4.11 in /usr/local/lib/python3.11/dist-packages (from openai) (4.13.1)\n",
            "Requirement already satisfied: idna>=2.8 in /usr/local/lib/python3.11/dist-packages (from anyio<5,>=3.5.0->openai) (3.10)\n",
            "Requirement already satisfied: certifi in /usr/local/lib/python3.11/dist-packages (from httpx<1,>=0.23.0->openai) (2025.1.31)\n",
            "Requirement already satisfied: httpcore==1.* in /usr/local/lib/python3.11/dist-packages (from httpx<1,>=0.23.0->openai) (1.0.7)\n",
            "Requirement already satisfied: h11<0.15,>=0.13 in /usr/local/lib/python3.11/dist-packages (from httpcore==1.*->httpx<1,>=0.23.0->openai) (0.14.0)\n",
            "Requirement already satisfied: annotated-types>=0.6.0 in /usr/local/lib/python3.11/dist-packages (from pydantic<3,>=1.9.0->openai) (0.7.0)\n",
            "Requirement already satisfied: pydantic-core==2.33.1 in /usr/local/lib/python3.11/dist-packages (from pydantic<3,>=1.9.0->openai) (2.33.1)\n",
            "Requirement already satisfied: typing-inspection>=0.4.0 in /usr/local/lib/python3.11/dist-packages (from pydantic<3,>=1.9.0->openai) (0.4.0)\n"
          ]
        }
      ]
    },
    {
      "cell_type": "code",
      "execution_count": 11,
      "metadata": {
        "colab": {
          "base_uri": "https://localhost:8080/"
        },
        "id": "U8kQAWobg1EX",
        "outputId": "9b3a2086-08a7-4c90-e42a-382dedf5d09a"
      },
      "outputs": [
        {
          "output_type": "stream",
          "name": "stdout",
          "text": [
            " Travel Retail Romania - Duty Free Sales Data Updated ( April. 2025)\n",
            "-----------------------------------------------------------------------\n",
            "First 5 rows of data:\n",
            "         Date           Product    Category  Price (RON)  \\\n",
            "0  2025-03-01  Ray-Ban Wayfarer  Sunglasses       358.74   \n",
            "1  2025-03-01        Pepsi 0.5l   Beverages        11.72   \n",
            "2  2025-03-01      Baileys 0.7l     Spirits       181.99   \n",
            "3  2025-03-01        Pepsi 0.5l   Beverages        13.81   \n",
            "4  2025-03-01      Dom Perignon     Spirits       113.61   \n",
            "\n",
            "   Acquisition Price (RON)  Units Sold  Revenue (RON)  Margin (RON)  \n",
            "0                   231.00          44       15784.56       5620.56  \n",
            "1                     7.50           3          35.16         12.66  \n",
            "2                   126.91          47        8553.53       2588.76  \n",
            "3                     8.26          17         234.77         94.35  \n",
            "4                    80.64          15        1704.15        494.55  \n",
            "\n",
            "Revenue and margin by Category:\n",
            "             Revenue (RON)  Margin (RON)\n",
            "Category                                \n",
            "Accessories      929918.54     475182.67\n",
            "Beer               9476.38       2935.30\n",
            "Beverages         19331.55       8647.76\n",
            "Clothing         964812.73     392179.22\n",
            "Food             185162.69      64884.27\n",
            "Perfume         1438482.11     439102.06\n",
            "Spirits         1537553.97     463454.86\n",
            "Sunglasses      1391524.63     526633.45\n",
            "Tobacco          254781.67      92664.49\n",
            "Water              6776.98       3224.35\n",
            "Wine             192750.72      69483.05\n",
            "\n",
            "Top 3 products by margin:\n",
            "Product\n",
            "Swarovski Pendant    161112.80\n",
            "Persol Sunglasses    143571.56\n",
            "Police Sunglasses    141489.14\n",
            "Name: Margin (RON), dtype: float64\n",
            "Total Revenue: 6930571.97 RON. This is total gross.\n",
            "Total Margin: 2538391.48 RON. This is total net.\n",
            "Total Units Sold: 31264.\n",
            "-----------------------------------------------------------------------\n",
            "\n",
            "AI Agent Summary:\n",
            "Concise Summary for Duty-Free Managers:\n",
            "\n",
            "1. Top Revenue Generating Products: Persol and Police Sunglasses, along with Swarovski Pendant, are the top-selling products by revenue. Focus on promoting these high-demand items further to boost overall sales.\n",
            "\n",
            "2. Top Margin Generating Products: Swarovski Pendant, Persol, and Police Sunglasses are the top products in terms of margin. Consider optimizing pricing strategies or bundling deals for these products to enhance profitability.\n",
            "\n",
            "3. Category Insights: Sunglasses and Perfume categories are strong revenue and margin drivers. Allocate more resources and marketing efforts towards these categories to capitalize on their success.\n",
            "\n",
            "4. Potential Growth Areas: Clothing and Spirits categories show promising margins. Explore opportunities to expand product offerings or introduce new\n",
            "-----------------------------------------------------------------------\n"
          ]
        }
      ],
      "source": [
        "# Step 1: Import pandas\n",
        "import pandas as pd\n",
        "import openai\n",
        "from google.colab import userdata\n",
        "import os\n",
        "\n",
        "#Step 2 : Set env\n",
        "\n",
        "openai.api_key = userdata.get('OPEN_AI')\n",
        "if not openai.api_key:\n",
        "  raise ValueError(\"OPENAI API key not found in Colabs Secrets as 'OPEN_AI'.\")\n",
        "\n",
        "#Step 3: Load the Excel\n",
        "df = pd.read_excel(\"/duty_free_sales.xlsx\")\n",
        "\n",
        "#Step 4: Basic analysis\n",
        "category_summary = df.groupby(\"Category\")[[\"Revenue (RON)\", \"Margin (RON)\"]].sum()\n",
        "top_margin_products = df.groupby(\"Product\")[\"Margin (RON)\"].sum().nlargest(3)\n",
        "\n",
        "#Step 5: Define a simple AI agent:\n",
        "def sales_analyzer_agent(dataframe):\n",
        "  total_revenue = dataframe[\"Revenue (RON)\"].sum()\n",
        "  total_margin = dataframe[\"Margin (RON)\"].sum()\n",
        "  top_revenue_products = dataframe.groupby(\"Product\")[\"Revenue (RON)\"].sum().nlargest(3)\n",
        "  top_margin_products = dataframe.groupby(\"Product\")[\"Margin (RON)\"].sum().nlargest(3)\n",
        "  category_data = dataframe.groupby(\"Category\")[[\"Revenue (RON)\", \"Margin (RON)\"]].sum()\n",
        "\n",
        "\n",
        "  # Create a prompt for OpenAI\n",
        "  prompt = (\n",
        "      f\"Travel Retail Romania - Duty free sales report:\\n:\"\n",
        "      f\"Total Revenue: {total_revenue:.2f} RON\\n\"\n",
        "      f\"Total Margin: {total_margin:.2f} RON\\n\"\n",
        "      f\"Top 3 Products by Revenue:\\n{top_revenue_products}\\n\"\n",
        "      f\"Top 3 Products by Margin:\\n{top_margin_products}\\n\"\n",
        "      f\"Category Summary\\n{category_data}\\n\"\n",
        "      f\"Provide a concise, actionabla summary for duty-free managers, focusing on the insights and recomandatios(avoid repeting numbers)\"\n",
        "  )\n",
        "\n",
        "  response = openai.chat.completions.create(\n",
        "        model=\"gpt-3.5-turbo\",\n",
        "        messages=[\n",
        "            {\"role\": \"system\", \"content\": \"You are a helpful sales analyst.\"},\n",
        "            {\"role\": \"user\", \"content\": prompt}\n",
        "        ],\n",
        "        max_tokens=150,\n",
        "        temperature=0.7\n",
        "    )\n",
        "  #Extract the summary\n",
        "  summary = response.choices[0].message.content.strip()\n",
        "\n",
        "  #save to a text file\n",
        "  with open(\"sales_summary.txt\", \"w\") as f:\n",
        "    f.write(summary)\n",
        "  return summary\n",
        "\n",
        "\n",
        "# Step 6: Display result\n",
        "\n",
        "print(\" Travel Retail Romania - Duty Free Sales Data Updated ( April. 2025)\")\n",
        "print(\"-----------------------------------------------------------------------\")\n",
        "print(\"First 5 rows of data:\")\n",
        "print(df.head())\n",
        "print(\"\\nRevenue and margin by Category:\")\n",
        "print(category_summary)\n",
        "print(\"\\nTop 3 products by margin:\")\n",
        "print(top_margin_products)\n",
        "print(f\"Total Revenue: {df['Revenue (RON)'].sum():.2f} RON. This is total gross.\")\n",
        "print(f\"Total Margin: {df['Margin (RON)'].sum():.2f} RON. This is total net.\")\n",
        "print(f\"Total Units Sold: {df['Units Sold'].sum()}.\")\n",
        "print(\"-----------------------------------------------------------------------\")\n",
        "print(\"\\nAI Agent Summary:\")\n",
        "agent_summary = sales_analyzer_agent(df)\n",
        "print(agent_summary)\n",
        "print(\"-----------------------------------------------------------------------\")\n",
        "\n",
        "\n"
      ]
    },
    {
      "cell_type": "code",
      "source": [
        "\n"
      ],
      "metadata": {
        "id": "LWBsGAxX1rvS"
      },
      "execution_count": null,
      "outputs": []
    },
    {
      "cell_type": "code",
      "source": [],
      "metadata": {
        "id": "HRvoN6bYhXWp"
      },
      "execution_count": null,
      "outputs": []
    }
  ]
}